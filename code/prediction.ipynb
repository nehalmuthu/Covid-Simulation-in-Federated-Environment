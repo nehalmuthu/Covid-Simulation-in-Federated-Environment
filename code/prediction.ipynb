{
  "nbformat": 4,
  "nbformat_minor": 0,
  "metadata": {
    "colab": {
      "name": "prediction",
      "provenance": [],
      "authorship_tag": "ABX9TyNcSnikWsHm9BSSizkq9Cl+",
      "include_colab_link": true
    },
    "kernelspec": {
      "name": "python3",
      "display_name": "Python 3"
    },
    "language_info": {
      "name": "python"
    }
  },
  "cells": [
    {
      "cell_type": "markdown",
      "metadata": {
        "id": "view-in-github",
        "colab_type": "text"
      },
      "source": [
        "<a href=\"https://colab.research.google.com/github/nehalmuthu/Covid-Simulation-in-Federated-Environment/blob/master/prediction.ipynb\" target=\"_parent\"><img src=\"https://colab.research.google.com/assets/colab-badge.svg\" alt=\"Open In Colab\"/></a>"
      ]
    },
    {
      "cell_type": "code",
      "source": [
        "from google.colab import drive\n",
        "drive.mount('/content/gdrive')"
      ],
      "metadata": {
        "colab": {
          "base_uri": "https://localhost:8080/"
        },
        "id": "M19MeKAyjnbD",
        "outputId": "83876f77-f1b5-4d15-cc7a-0481ab57b13b"
      },
      "execution_count": 1,
      "outputs": [
        {
          "output_type": "stream",
          "name": "stdout",
          "text": [
            "Mounted at /content/gdrive\n"
          ]
        }
      ]
    },
    {
      "cell_type": "code",
      "source": [
        "import pandas as pd\n",
        "import matplotlib.pyplot as plt\n",
        "import pandas as pd\n",
        "import numpy as np\n",
        "from scipy.io import savemat"
      ],
      "metadata": {
        "id": "FPEI4wJ3kMIM"
      },
      "execution_count": 85,
      "outputs": []
    },
    {
      "cell_type": "code",
      "execution_count": 86,
      "metadata": {
        "id": "VhPs2ARPiNbY"
      },
      "outputs": [],
      "source": [
        "from sklearn.metrics import mean_squared_error, mean_absolute_error,mean_absolute_percentage_error\n",
        "\n",
        "def sterr(nam,X_test,y_test,weights):\n",
        "  st1=X_test[X_test.sub_region_1==nam]\n",
        "  st1=st1.drop(['sub_region_1'], axis = 1)\n",
        "  infectionNo=np.dot(st1,np.transpose(weights))\n",
        "  for i in range(len(infectionNo)):\n",
        "    if infectionNo[i]<=0:\n",
        "      infectionNo[i]=1\n",
        "    \n",
        "  yact=list(y_test[st1.index])\n",
        "  for i in range(len(yact)):\n",
        "    if yact[i]<=0:\n",
        "      yact[i]=1\n",
        "  #plt.plot(infectionNo)\n",
        "  #plt.plot(yact)\n",
        "  #plt.title(nam)\n",
        "  \n",
        "  mse_lr = mean_squared_error(yact, infectionNo)\n",
        "  mae_lr = mean_absolute_error(yact, infectionNo)\n",
        "  mape_lr = mean_absolute_percentage_error(yact, infectionNo)\n",
        "\n",
        "\n",
        "  #print('Mean squared error from fed learning: ', mse_lr)\n",
        "  #print('Mean absolute error from fed learning: ', mae_lr)\n",
        "  return [mse_lr, mae_lr,mape_lr]\n"
      ]
    },
    {
      "cell_type": "code",
      "source": [
        "\n",
        "#us-fewstates\n",
        "#weights=np.array([-60.2787,   29.7225,  -2.4390,    0.7915,   -3.0091,   67.4911])\n",
        "\n",
        "#us-fewstates date adjusted\n",
        "#weights=np.array([ -58.5539,   31.8991,   -2.4852,    0.2373,    2.4239,   90.2976])\n",
        "\n",
        "\n",
        "#us-few-states-recent\n",
        "weights=np.array([ -62.2272,   54.5818,   -3.8243,    7.9004,  -10.9070,   75.3661])\n",
        " "
      ],
      "metadata": {
        "id": "MWDwNFscjswD"
      },
      "execution_count": 87,
      "outputs": []
    },
    {
      "cell_type": "code",
      "source": [
        "X_test=pd.read_csv('/content/x_test.csv')\n",
        "y_test=pd.read_csv('/content/y_test.csv')\n"
      ],
      "metadata": {
        "id": "B2YjfXbCyGev"
      },
      "execution_count": 176,
      "outputs": []
    },
    {
      "cell_type": "code",
      "source": [
        "y_test=y_test['cases']"
      ],
      "metadata": {
        "id": "QUfQ3dd34G1w"
      },
      "execution_count": 177,
      "outputs": []
    },
    {
      "cell_type": "code",
      "source": [
        "stlist=X_test.sub_region_1.unique()\n",
        "ms=[]\n",
        "ma=[]\n",
        "mpe=[]\n",
        "for i in X_test.sub_region_1.unique():\n",
        "  nam=i\n",
        "  mse,mae,mape=sterr(nam,X_test,y_test,weights)\n",
        "  ms.append(mse)\n",
        "  ma.append(mae)\n",
        "  mpe.append(mape)"
      ],
      "metadata": {
        "id": "VNEI57LRjwhL"
      },
      "execution_count": 90,
      "outputs": []
    },
    {
      "cell_type": "code",
      "source": [
        "df = pd.DataFrame(list(zip(stlist,np.round(mpe,2),np.round(ma,2),np.round(ms,2))),\n",
        "               columns =['state','MAPE','MAD','MSE'])"
      ],
      "metadata": {
        "id": "OqzyGqwPjysj"
      },
      "execution_count": 91,
      "outputs": []
    },
    {
      "cell_type": "code",
      "source": [
        "df"
      ],
      "metadata": {
        "colab": {
          "base_uri": "https://localhost:8080/",
          "height": 206
        },
        "id": "icFePQyw1g_f",
        "outputId": "a3766a09-cc11-447c-e585-a6c1273565ac"
      },
      "execution_count": 92,
      "outputs": [
        {
          "output_type": "execute_result",
          "data": {
            "text/html": [
              "\n",
              "  <div id=\"df-dd6f2c4a-1679-4392-8e30-7f789e86c004\">\n",
              "    <div class=\"colab-df-container\">\n",
              "      <div>\n",
              "<style scoped>\n",
              "    .dataframe tbody tr th:only-of-type {\n",
              "        vertical-align: middle;\n",
              "    }\n",
              "\n",
              "    .dataframe tbody tr th {\n",
              "        vertical-align: top;\n",
              "    }\n",
              "\n",
              "    .dataframe thead th {\n",
              "        text-align: right;\n",
              "    }\n",
              "</style>\n",
              "<table border=\"1\" class=\"dataframe\">\n",
              "  <thead>\n",
              "    <tr style=\"text-align: right;\">\n",
              "      <th></th>\n",
              "      <th>state</th>\n",
              "      <th>MAPE</th>\n",
              "      <th>MAD</th>\n",
              "      <th>MSE</th>\n",
              "    </tr>\n",
              "  </thead>\n",
              "  <tbody>\n",
              "    <tr>\n",
              "      <th>0</th>\n",
              "      <td>Colorado</td>\n",
              "      <td>2.42</td>\n",
              "      <td>974.64</td>\n",
              "      <td>1570830.27</td>\n",
              "    </tr>\n",
              "    <tr>\n",
              "      <th>1</th>\n",
              "      <td>Kentucky</td>\n",
              "      <td>22.73</td>\n",
              "      <td>1164.85</td>\n",
              "      <td>2525733.58</td>\n",
              "    </tr>\n",
              "    <tr>\n",
              "      <th>2</th>\n",
              "      <td>Washington</td>\n",
              "      <td>5.56</td>\n",
              "      <td>1118.27</td>\n",
              "      <td>2141373.94</td>\n",
              "    </tr>\n",
              "    <tr>\n",
              "      <th>3</th>\n",
              "      <td>Alabama</td>\n",
              "      <td>11.95</td>\n",
              "      <td>930.56</td>\n",
              "      <td>1545061.13</td>\n",
              "    </tr>\n",
              "    <tr>\n",
              "      <th>4</th>\n",
              "      <td>Minnesota</td>\n",
              "      <td>1.51</td>\n",
              "      <td>837.23</td>\n",
              "      <td>1200815.28</td>\n",
              "    </tr>\n",
              "  </tbody>\n",
              "</table>\n",
              "</div>\n",
              "      <button class=\"colab-df-convert\" onclick=\"convertToInteractive('df-dd6f2c4a-1679-4392-8e30-7f789e86c004')\"\n",
              "              title=\"Convert this dataframe to an interactive table.\"\n",
              "              style=\"display:none;\">\n",
              "        \n",
              "  <svg xmlns=\"http://www.w3.org/2000/svg\" height=\"24px\"viewBox=\"0 0 24 24\"\n",
              "       width=\"24px\">\n",
              "    <path d=\"M0 0h24v24H0V0z\" fill=\"none\"/>\n",
              "    <path d=\"M18.56 5.44l.94 2.06.94-2.06 2.06-.94-2.06-.94-.94-2.06-.94 2.06-2.06.94zm-11 1L8.5 8.5l.94-2.06 2.06-.94-2.06-.94L8.5 2.5l-.94 2.06-2.06.94zm10 10l.94 2.06.94-2.06 2.06-.94-2.06-.94-.94-2.06-.94 2.06-2.06.94z\"/><path d=\"M17.41 7.96l-1.37-1.37c-.4-.4-.92-.59-1.43-.59-.52 0-1.04.2-1.43.59L10.3 9.45l-7.72 7.72c-.78.78-.78 2.05 0 2.83L4 21.41c.39.39.9.59 1.41.59.51 0 1.02-.2 1.41-.59l7.78-7.78 2.81-2.81c.8-.78.8-2.07 0-2.86zM5.41 20L4 18.59l7.72-7.72 1.47 1.35L5.41 20z\"/>\n",
              "  </svg>\n",
              "      </button>\n",
              "      \n",
              "  <style>\n",
              "    .colab-df-container {\n",
              "      display:flex;\n",
              "      flex-wrap:wrap;\n",
              "      gap: 12px;\n",
              "    }\n",
              "\n",
              "    .colab-df-convert {\n",
              "      background-color: #E8F0FE;\n",
              "      border: none;\n",
              "      border-radius: 50%;\n",
              "      cursor: pointer;\n",
              "      display: none;\n",
              "      fill: #1967D2;\n",
              "      height: 32px;\n",
              "      padding: 0 0 0 0;\n",
              "      width: 32px;\n",
              "    }\n",
              "\n",
              "    .colab-df-convert:hover {\n",
              "      background-color: #E2EBFA;\n",
              "      box-shadow: 0px 1px 2px rgba(60, 64, 67, 0.3), 0px 1px 3px 1px rgba(60, 64, 67, 0.15);\n",
              "      fill: #174EA6;\n",
              "    }\n",
              "\n",
              "    [theme=dark] .colab-df-convert {\n",
              "      background-color: #3B4455;\n",
              "      fill: #D2E3FC;\n",
              "    }\n",
              "\n",
              "    [theme=dark] .colab-df-convert:hover {\n",
              "      background-color: #434B5C;\n",
              "      box-shadow: 0px 1px 3px 1px rgba(0, 0, 0, 0.15);\n",
              "      filter: drop-shadow(0px 1px 2px rgba(0, 0, 0, 0.3));\n",
              "      fill: #FFFFFF;\n",
              "    }\n",
              "  </style>\n",
              "\n",
              "      <script>\n",
              "        const buttonEl =\n",
              "          document.querySelector('#df-dd6f2c4a-1679-4392-8e30-7f789e86c004 button.colab-df-convert');\n",
              "        buttonEl.style.display =\n",
              "          google.colab.kernel.accessAllowed ? 'block' : 'none';\n",
              "\n",
              "        async function convertToInteractive(key) {\n",
              "          const element = document.querySelector('#df-dd6f2c4a-1679-4392-8e30-7f789e86c004');\n",
              "          const dataTable =\n",
              "            await google.colab.kernel.invokeFunction('convertToInteractive',\n",
              "                                                     [key], {});\n",
              "          if (!dataTable) return;\n",
              "\n",
              "          const docLinkHtml = 'Like what you see? Visit the ' +\n",
              "            '<a target=\"_blank\" href=https://colab.research.google.com/notebooks/data_table.ipynb>data table notebook</a>'\n",
              "            + ' to learn more about interactive tables.';\n",
              "          element.innerHTML = '';\n",
              "          dataTable['output_type'] = 'display_data';\n",
              "          await google.colab.output.renderOutput(dataTable, element);\n",
              "          const docLink = document.createElement('div');\n",
              "          docLink.innerHTML = docLinkHtml;\n",
              "          element.appendChild(docLink);\n",
              "        }\n",
              "      </script>\n",
              "    </div>\n",
              "  </div>\n",
              "  "
            ],
            "text/plain": [
              "        state   MAPE      MAD         MSE\n",
              "0    Colorado   2.42   974.64  1570830.27\n",
              "1    Kentucky  22.73  1164.85  2525733.58\n",
              "2  Washington   5.56  1118.27  2141373.94\n",
              "3     Alabama  11.95   930.56  1545061.13\n",
              "4   Minnesota   1.51   837.23  1200815.28"
            ]
          },
          "metadata": {},
          "execution_count": 92
        }
      ]
    },
    {
      "cell_type": "code",
      "source": [
        ""
      ],
      "metadata": {
        "id": "2OmvKITVDsqq"
      },
      "execution_count": 127,
      "outputs": []
    },
    {
      "cell_type": "code",
      "source": [
        "weights=[\n",
        " -24.5816,\n",
        "   21.7912,\n",
        "   -4.1286,\n",
        "   -4.4444,\n",
        "  -37.4159,\n",
        "  -60.5527\n",
        "]"
      ],
      "metadata": {
        "id": "J54TVkJuGzqC"
      },
      "execution_count": 168,
      "outputs": []
    },
    {
      "cell_type": "code",
      "source": [
        "from sklearn.metrics import mean_squared_error, mean_absolute_error,mean_absolute_percentage_error\n",
        "\n",
        "\n",
        "def testplt(nam,X_test,y_test,weights):\n",
        "  st1=X_test[X_test.sub_region_1==nam]\n",
        "  st1=st1.drop(['sub_region_1'], axis = 1)\n",
        "  infectionNo=np.dot(st1,np.transpose(weights))\n",
        "  for i in range(len(infectionNo)):\n",
        "    if infectionNo[i]<=0:\n",
        "      infectionNo[i]=1\n",
        "    \n",
        "  yact=list(y_test[st1.index])\n",
        "  for i in range(len(yact)):\n",
        "    if yact[i]<=0:\n",
        "      yact[i]=1\n",
        "  for i in range(1,len(yact)):\n",
        "    yact[i]=yact[i]+yact[i-1]\n",
        "    infectionNo[i]=infectionNo[i]+infectionNo[i-1]\n",
        "  \n",
        "\n",
        "  plt.plot(yact,label='actual')\n",
        "  plt.plot(infectionNo,label='predicted')\n",
        "\n",
        "  plt.xlabel('Days')\n",
        "  # naming the y axis\n",
        "  plt.ylabel('Cumulative Case')\n",
        "  plt.title(nam)\n",
        "\n",
        "  plt.legend()\n",
        "  plt.show()\n",
        "    "
      ],
      "metadata": {
        "id": "TWA5k4MFHsvY"
      },
      "execution_count": 213,
      "outputs": []
    },
    {
      "cell_type": "code",
      "source": [
        "stlist"
      ],
      "metadata": {
        "colab": {
          "base_uri": "https://localhost:8080/"
        },
        "id": "nHHHc0nBIniC",
        "outputId": "99f889e7-9d1e-4833-fdb2-c596905d3935"
      },
      "execution_count": 214,
      "outputs": [
        {
          "output_type": "execute_result",
          "data": {
            "text/plain": [
              "array(['Colorado', 'Kentucky', 'Washington', 'Alabama', 'Minnesota'],\n",
              "      dtype=object)"
            ]
          },
          "metadata": {},
          "execution_count": 214
        }
      ]
    },
    {
      "cell_type": "code",
      "source": [
        "stlist=X_test.sub_region_1.unique()\n",
        "nam='Minnesota'\n",
        "testplt(nam,X_test,y_test,weights)"
      ],
      "metadata": {
        "colab": {
          "base_uri": "https://localhost:8080/",
          "height": 295
        },
        "id": "nnT68jrEHtPf",
        "outputId": "7a55c498-c439-4d9e-947e-8fb20387400b"
      },
      "execution_count": 222,
      "outputs": [
        {
          "output_type": "display_data",
          "data": {
            "image/png": "[encoded data removed]",
            "text/plain": [
              "<Figure size 432x288 with 1 Axes>"
            ]
          },
          "metadata": {
            "needs_background": "light"
          }
        }
      ]
    }
  ]
}